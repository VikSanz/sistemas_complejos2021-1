{
 "cells": [
  {
   "cell_type": "code",
   "execution_count": 2,
   "metadata": {},
   "outputs": [],
   "source": [
    "import networkx as nx\n",
    "import networkit as nk\n",
    "import numpy as np\n",
    "import matplotlib.pyplot as plt\n",
    "import graficas as ga\n",
    "import os\n",
    "import time"
   ]
  },
  {
   "cell_type": "code",
   "execution_count": 3,
   "metadata": {},
   "outputs": [],
   "source": [
    "def powerLawGraph(n,alpha,avg=12):\n",
    "    etas = np.arange(1,n+1)\n",
    "    etas = 1/(np.power(etas,alpha))\n",
    "    c = n*avg/np.sum(etas)\n",
    "    etas = c*etas\n",
    "    avg_eta = np.mean(etas)\n",
    "    G = nx.Graph()\n",
    "    G.add_nodes_from(range(n))\n",
    "    for i in range(n):\n",
    "        for j in range(i+1,n):\n",
    "            p = etas[i]*etas[j]/(avg_eta*n) \n",
    "            if p > np.random.rand():\n",
    "                G.add_edge(i,j)\n",
    "    return G"
   ]
  },
  {
   "cell_type": "code",
   "execution_count": 4,
   "metadata": {},
   "outputs": [
    {
     "data": {
      "image/png": "[encoded data removed]",
      "text/plain": [
       "<Figure size 432x288 with 1 Axes>"
      ]
     },
     "metadata": {
      "needs_background": "light"
     },
     "output_type": "display_data"
    },
    {
     "name": "stdout",
     "output_type": "stream",
     "text": [
      "8.7\n"
     ]
    }
   ],
   "source": [
    "G = powerLawGraph(100,1,avg=13)\n",
    "degs = [d for n,d in G.degree()]\n",
    "fig = plt.figure(figsize=(6,4))\n",
    "ga.plotDistribution(degs,plt.gca(),bins=40)\n",
    "plt.show()\n",
    "print(np.mean(degs))"
   ]
  },
  {
   "cell_type": "code",
   "execution_count": 5,
   "metadata": {},
   "outputs": [
    {
     "data": {
      "text/plain": [
       "6"
      ]
     },
     "execution_count": 5,
     "metadata": {},
     "output_type": "execute_result"
    }
   ],
   "source": [
    "np.sum(np.array([1,2,3]))"
   ]
  },
  {
   "cell_type": "code",
   "execution_count": 6,
   "metadata": {},
   "outputs": [],
   "source": [
    "def powerLawGraphNumpy(n,alpha,avg=12):\n",
    "    A = np.random.rand(n,n)\n",
    "    A = (A+np.transpose(A))/2\n",
    "    etas = np.arange(1,n+1)\n",
    "    etas = 1/(np.power(etas,alpha))\n",
    "    c = n*avg/np.sum(etas)\n",
    "    etas = c*etas\n",
    "    P = np.outer(etas,etas)\n",
    "    P = P/(np.mean(etas)*n)\n",
    "    B = np.int32(A>P)\n",
    "    return nx.from_numpy_matrix(B)"
   ]
  },
  {
   "cell_type": "code",
   "execution_count": 7,
   "metadata": {},
   "outputs": [
    {
     "data": {
      "text/plain": [
       "<networkx.classes.graph.Graph at 0x7f3094809c50>"
      ]
     },
     "execution_count": 7,
     "metadata": {},
     "output_type": "execute_result"
    }
   ],
   "source": [
    "powerLawGraphNumpy(1000,1)"
   ]
  },
  {
   "cell_type": "code",
   "execution_count": 8,
   "metadata": {},
   "outputs": [
    {
     "data": {
      "text/plain": [
       "<networkx.classes.graph.Graph at 0x7f3094809668>"
      ]
     },
     "execution_count": 8,
     "metadata": {},
     "output_type": "execute_result"
    }
   ],
   "source": [
    "powerLawGraph(1000,1)"
   ]
  },
  {
   "cell_type": "code",
   "execution_count": 9,
   "metadata": {},
   "outputs": [],
   "source": [
    "G = nx.read_graphml(os.path.join(\"networks\",\"full_concurrency_español.graphml\"))"
   ]
  },
  {
   "cell_type": "code",
   "execution_count": 10,
   "metadata": {},
   "outputs": [],
   "source": [
    "degs = [d for n,d in G.degree()]"
   ]
  },
  {
   "cell_type": "code",
   "execution_count": 11,
   "metadata": {},
   "outputs": [
    {
     "data": {
      "text/plain": [
       "12.285155855096884"
      ]
     },
     "execution_count": 11,
     "metadata": {},
     "output_type": "execute_result"
    }
   ],
   "source": [
    "np.mean(degs)"
   ]
  },
  {
   "cell_type": "code",
   "execution_count": 12,
   "metadata": {},
   "outputs": [],
   "source": [
    "def powerLawGraphNumpy(n,alpha,avg=12):\n",
    "    A = np.random.rand(n,n)\n",
    "    A = (A+np.transpose(A))/2\n",
    "    etas = np.arange(1,n+1)\n",
    "    etas = 1/(np.power(etas,alpha))\n",
    "    c = n*avg/np.sum(etas)\n",
    "    etas = c*etas\n",
    "    P = np.outer(etas,etas)\n",
    "    P = P/(np.mean(etas)*n)\n",
    "    B = np.int32(A>P)\n",
    "    return nx.from_numpy_matrix(B)"
   ]
  },
  {
   "cell_type": "code",
   "execution_count": null,
   "metadata": {},
   "outputs": [],
   "source": []
  }
 ],
 "metadata": {
  "kernelspec": {
   "display_name": "Python 3",
   "language": "python",
   "name": "python3"
  },
  "language_info": {
   "codemirror_mode": {
    "name": "ipython",
    "version": 3
   },
   "file_extension": ".py",
   "mimetype": "text/x-python",
   "name": "python",
   "nbconvert_exporter": "python",
   "pygments_lexer": "ipython3",
   "version": "3.6.9"
  }
 },
 "nbformat": 4,
 "nbformat_minor": 4
}
