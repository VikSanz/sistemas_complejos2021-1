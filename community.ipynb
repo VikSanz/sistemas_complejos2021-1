{
 "cells": [
  {
   "cell_type": "code",
   "execution_count": 1,
   "metadata": {},
   "outputs": [],
   "source": [
    "import matplotlib.pyplot as plt\n",
    "import numpy as np\n",
    "import networkx as nx\n",
    "import os\n",
    "import community_detection as cd"
   ]
  },
  {
   "cell_type": "code",
   "execution_count": 6,
   "metadata": {},
   "outputs": [],
   "source": [
    "def hierarchicalPartitioningEuclidean(G):\n",
    "    return cd.hierarchicalPartitioning(G,n_clusters=20,affinity=\"euclidean\",linkage=\"complete\")\n",
    "def hierarchicalPartitioningCorreleation(G):\n",
    "    return cd.hierarchicalPartitioning(G,n_clusters=20,affinity=\"correlation\",linkage=\"complete\")"
   ]
  },
  {
   "cell_type": "code",
   "execution_count": 20,
   "metadata": {},
   "outputs": [
    {
     "name": "stderr",
     "output_type": "stream",
     "text": [
      "C:\\Users\\sayeg\\miniconda3\\lib\\site-packages\\sklearn\\cluster\\_agglomerative.py:468: ClusterWarning: scipy.cluster: The symmetric non-negative hollow observation matrix looks suspiciously like an uncondensed distance matrix\n",
      "  out = hierarchy.linkage(X, method=linkage, metric=affinity)\n",
      "C:\\Users\\sayeg\\miniconda3\\lib\\site-packages\\sklearn\\cluster\\_agglomerative.py:468: ClusterWarning: scipy.cluster: The symmetric non-negative hollow observation matrix looks suspiciously like an uncondensed distance matrix\n",
      "  out = hierarchy.linkage(X, method=linkage, metric=affinity)\n",
      "C:\\Users\\sayeg\\miniconda3\\lib\\site-packages\\sklearn\\cluster\\_agglomerative.py:468: ClusterWarning: scipy.cluster: The symmetric non-negative hollow observation matrix looks suspiciously like an uncondensed distance matrix\n",
      "  out = hierarchy.linkage(X, method=linkage, metric=affinity)\n",
      "C:\\Users\\sayeg\\miniconda3\\lib\\site-packages\\sklearn\\cluster\\_agglomerative.py:468: ClusterWarning: scipy.cluster: The symmetric non-negative hollow observation matrix looks suspiciously like an uncondensed distance matrix\n",
      "  out = hierarchy.linkage(X, method=linkage, metric=affinity)\n"
     ]
    }
   ],
   "source": [
    "for graph in [\"metro\",\"metrobus\",\"metro-metrobus\"]:\n",
    "    G = nx.read_gexf(os.path.join(\"transporte\",\"{0}.gexf\".format(graph)))\n",
    "    G = G.to_undirected()\n",
    "    funcs = [cd.spectralPartitioning,hierarchicalPartitioningCorreleation,hierarchicalPartitioningEuclidean,cd.clausetNewmanMoorePartitioning,cd.louvainParitioning]\n",
    "    for func in funcs:\n",
    "        partitions = func(G)\n",
    "        nx.set_node_attributes(G,partitions,func.__name__)\n",
    "    #print(G.nodes[\"centro_medico\"])\n",
    "    nx.write_gexf(G,os.path.join(\"transporte\",\"{0}_comunidades.gexf\".format(graph)))"
   ]
  },
  {
   "cell_type": "code",
   "execution_count": 11,
   "metadata": {},
   "outputs": [],
   "source": []
  },
  {
   "cell_type": "code",
   "execution_count": null,
   "metadata": {},
   "outputs": [],
   "source": []
  }
 ],
 "metadata": {
  "kernelspec": {
   "display_name": "Python 3",
   "language": "python",
   "name": "python3"
  },
  "language_info": {
   "codemirror_mode": {
    "name": "ipython",
    "version": 3
   },
   "file_extension": ".py",
   "mimetype": "text/x-python",
   "name": "python",
   "nbconvert_exporter": "python",
   "pygments_lexer": "ipython3",
   "version": "3.7.6"
  }
 },
 "nbformat": 4,
 "nbformat_minor": 4
}
