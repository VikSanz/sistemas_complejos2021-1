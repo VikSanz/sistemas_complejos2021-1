{
 "cells": [
  {
   "cell_type": "code",
   "execution_count": 4,
   "metadata": {},
   "outputs": [],
   "source": [
    "import numpy as np\n",
    "import googlemaps as maps\n",
    "import matplotlib.pyplot as plt\n",
    "import networkx as nx"
   ]
  },
  {
   "cell_type": "code",
   "execution_count": 9,
   "metadata": {},
   "outputs": [],
   "source": [
    "try: \n",
    "    f = open(\"google_maps_api_key.txt\")\n",
    "    key = f.read()\n",
    "    f.close()\n",
    "except FileNotFoundError:\n",
    "    print(\"API key for google maps must be in \\'google_maps_api_key.txt\\'\")"
   ]
  },
  {
   "cell_type": "code",
   "execution_count": 11,
   "metadata": {},
   "outputs": [],
   "source": [
    "client = maps.Client(key=key)"
   ]
  },
  {
   "cell_type": "code",
   "execution_count": 12,
   "metadata": {},
   "outputs": [],
   "source": [
    "A = client.places(\"Metro pantitlan\")"
   ]
  },
  {
   "cell_type": "code",
   "execution_count": 13,
   "metadata": {},
   "outputs": [
    {
     "data": {
      "text/plain": [
       "{'business_status': 'OPERATIONAL',\n",
       " 'formatted_address': 'Amp Adolfo López Mateos, 15690 Mexico City, Mexico',\n",
       " 'geometry': {'location': {'lat': 19.4151186, 'lng': -99.074361},\n",
       "  'viewport': {'northeast': {'lat': 19.41678607989272,\n",
       "    'lng': -99.07352472010727},\n",
       "   'southwest': {'lat': 19.41408642010728, 'lng': -99.07622437989272}}},\n",
       " 'icon': 'https://maps.gstatic.com/mapfiles/place_api/icons/v1/png_71/train-71.png',\n",
       " 'name': 'CETRAM Pantitlán',\n",
       " 'photos': [{'height': 1536,\n",
       "   'html_attributions': ['<a href=\"https://maps.google.com/maps/contrib/106436269602299843745\">Frederick Whilhelm Von Hohenzollerng</a>'],\n",
       "   'photo_reference': 'CmRaAAAA2j6tUiKfeUUSIyKAO65EtOO1tYp8RVEAhRfObxMRxnGESi9uAUC_1sZuSklRUPUntelm9wSigKuP5na4hkNWkX3a_JQ_9zFaxvr7Eve-O8l2senSdVwf447FYvS-P40JEhC76eMxtzk43uvBCo2YyEGYGhTk2vEl7BcAMNBIdb297iP0Nd7YXA',\n",
       "   'width': 2048}],\n",
       " 'place_id': 'ChIJLaPUyGv80YUR6v_J4Uh1TCY',\n",
       " 'plus_code': {'compound_code': 'CW8G+27 Mexico City',\n",
       "  'global_code': '76F2CW8G+27'},\n",
       " 'rating': 3.1,\n",
       " 'reference': 'ChIJLaPUyGv80YUR6v_J4Uh1TCY',\n",
       " 'types': ['train_station',\n",
       "  'transit_station',\n",
       "  'point_of_interest',\n",
       "  'establishment'],\n",
       " 'user_ratings_total': 118}"
      ]
     },
     "execution_count": 13,
     "metadata": {},
     "output_type": "execute_result"
    }
   ],
   "source": [
    "A[\"results\"][0]"
   ]
  },
  {
   "cell_type": "code",
   "execution_count": 14,
   "metadata": {},
   "outputs": [],
   "source": [
    "B = client.places(\"Metrobus tepalcates\")"
   ]
  },
  {
   "cell_type": "code",
   "execution_count": 15,
   "metadata": {},
   "outputs": [
    {
     "data": {
      "text/plain": [
       "{'business_status': 'OPERATIONAL',\n",
       " 'formatted_address': 'Ejército Constitucionalista I II y III, 09220 Mexico City, Mexico',\n",
       " 'geometry': {'location': {'lat': 19.3907414, 'lng': -99.0474948},\n",
       "  'viewport': {'northeast': {'lat': 19.39204237989272,\n",
       "    'lng': -99.04590565000001},\n",
       "   'southwest': {'lat': 19.38934272010728, 'lng': -99.04907385000001}}},\n",
       " 'icon': 'https://maps.gstatic.com/mapfiles/place_api/icons/v1/png_71/generic_business-71.png',\n",
       " 'name': 'Metrobus Tepalcates',\n",
       " 'photos': [{'height': 2952,\n",
       "   'html_attributions': ['<a href=\"https://maps.google.com/maps/contrib/104738752958739385135\">Jose David Reyes</a>'],\n",
       "   'photo_reference': 'CmRaAAAAoiKIuRu5FpOlyDpCp3LddojMW-MtiwwGQFjXl7n-9FyKZCD_zU5ryykFZPVFMxdDv7uggFm6dkMesfCv7A6Or_a53ohw-3iXXMAuvAlU6bw5oOLqDv-RXhaxjCkjxeAKEhDsgou8dU9tR1ofl_dajHUSGhQnrhWsx1hPYzx28pmRhk9OwywkKw',\n",
       "   'width': 5248}],\n",
       " 'place_id': 'ChIJ_YnZX_380YUR79WhgZFa2Fo',\n",
       " 'plus_code': {'compound_code': '9XR3+72 Mexico City',\n",
       "  'global_code': '76F29XR3+72'},\n",
       " 'rating': 3.1,\n",
       " 'reference': 'ChIJ_YnZX_380YUR79WhgZFa2Fo',\n",
       " 'types': ['transit_station', 'point_of_interest', 'establishment'],\n",
       " 'user_ratings_total': 95}"
      ]
     },
     "execution_count": 15,
     "metadata": {},
     "output_type": "execute_result"
    }
   ],
   "source": [
    "B[\"results\"][0]"
   ]
  },
  {
   "cell_type": "code",
   "execution_count": 16,
   "metadata": {},
   "outputs": [],
   "source": [
    "estadio = client.geocode(\"estadio axteca\")\n",
    "loc2 = estadio[0][\"geometry\"][\"location\"]"
   ]
  },
  {
   "cell_type": "code",
   "execution_count": 17,
   "metadata": {},
   "outputs": [
    {
     "data": {
      "text/plain": [
       "{'lat': 19.3028607, 'lng': -99.1505277}"
      ]
     },
     "execution_count": 17,
     "metadata": {},
     "output_type": "execute_result"
    }
   ],
   "source": [
    "loc2"
   ]
  },
  {
   "cell_type": "code",
   "execution_count": 18,
   "metadata": {},
   "outputs": [],
   "source": [
    "casa_sofia = client.geocode(\"fiviport\")"
   ]
  },
  {
   "cell_type": "code",
   "execution_count": 19,
   "metadata": {},
   "outputs": [],
   "source": [
    "loc = casa_sofia[0][\"geometry\"][\"location\"]"
   ]
  },
  {
   "cell_type": "code",
   "execution_count": 20,
   "metadata": {},
   "outputs": [
    {
     "data": {
      "text/plain": [
       "{'lat': 19.4263365, 'lng': -99.06160100000001}"
      ]
     },
     "execution_count": 20,
     "metadata": {},
     "output_type": "execute_result"
    }
   ],
   "source": [
    "loc"
   ]
  },
  {
   "cell_type": "code",
   "execution_count": 21,
   "metadata": {},
   "outputs": [],
   "source": [
    "# check https://github.com/googlemaps/google-maps-services-python/blob/master/googlemaps/places.py\n",
    "C = client.places_nearby(location=loc,radius=20000,type=\"transit_station\")"
   ]
  },
  {
   "cell_type": "code",
   "execution_count": 22,
   "metadata": {},
   "outputs": [
    {
     "name": "stdout",
     "output_type": "stream",
     "text": [
      "LUZ SAVIÑON 816\n",
      "Metro Nativitas\n",
      "De la Salle\n",
      "San Andrés Tomatlán\n",
      "Plaza Río de Janeiro\n",
      "Periférico Oriente\n",
      "Zócalo\n",
      "Ssa Mexico\n",
      "Omnibus de México\n",
      "Bellas Artes\n",
      "Doctores\n",
      "El Chopo\n",
      "Insurgentes\n",
      "Estrella Roja\n",
      "Agrícola Oriental\n",
      "Zaragoza\n",
      "Hangares\n",
      "Terminal Aérea\n",
      "Gómez Farías\n",
      "Nicolás Bravo\n"
     ]
    }
   ],
   "source": [
    "for x in C[\"results\"]:\n",
    "    print(x[\"name\"])"
   ]
  },
  {
   "cell_type": "code",
   "execution_count": null,
   "metadata": {},
   "outputs": [],
   "source": []
  },
  {
   "cell_type": "code",
   "execution_count": null,
   "metadata": {},
   "outputs": [],
   "source": []
  }
 ],
 "metadata": {
  "kernelspec": {
   "display_name": "Python 3",
   "language": "python",
   "name": "python3"
  },
  "language_info": {
   "codemirror_mode": {
    "name": "ipython",
    "version": 3
   },
   "file_extension": ".py",
   "mimetype": "text/x-python",
   "name": "python",
   "nbconvert_exporter": "python",
   "pygments_lexer": "ipython3",
   "version": "3.6.9"
  }
 },
 "nbformat": 4,
 "nbformat_minor": 4
}
