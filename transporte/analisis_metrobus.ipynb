{
 "cells": [
  {
   "cell_type": "code",
   "execution_count": 1,
   "metadata": {},
   "outputs": [],
   "source": [
    "import pandas as pd\n",
    "import numpy as np\n",
    "import matplotlib.pyplot as plt\n",
    "import networkx as nx\n",
    "import json\n",
    "import os\n",
    "from scipy.spatial import KDTree\n",
    "metro = pd.read_csv(\"lineas-y-estaciones-del-metro.csv\")\n",
    "metrobus = pd.read_csv(\"estaciones-metrobus.csv\")\n",
    "# parse json data to dicts\n",
    "metro[\"Geo Shape\"] = [json.loads(m) for m in metro[\"Geo Shape\"]]\n",
    "metrobus[\"Geo Shape\"] = [json.loads(m) for m in metrobus[\"Geo Shape\"]]\n",
    "metro = metro.rename(columns={\"Nombre\":\"nombre\"})"
   ]
  },
  {
   "cell_type": "code",
   "execution_count": 2,
   "metadata": {},
   "outputs": [],
   "source": [
    "def separateLines(df):\n",
    "    index = np.array([df.loc[i,\"Geo Shape\"][\"type\"]==\"MultiLineString\" for i in range(df.shape[0])])\n",
    "    return df[index].reset_index(), df[~index].reset_index()"
   ]
  },
  {
   "cell_type": "code",
   "execution_count": 3,
   "metadata": {},
   "outputs": [],
   "source": [
    "def unique(sequence):\n",
    "    seen = set()\n",
    "    return [x for x in sequence if not (x in seen or seen.add(x))]"
   ]
  },
  {
   "cell_type": "code",
   "execution_count": 4,
   "metadata": {},
   "outputs": [],
   "source": [
    "def getCoordinates(edge,df):\n",
    "    coord1 = np.array(df[df[\"nombre\"]==edge[0]][\"Geo Shape\"].iloc[0][\"coordinates\"])\n",
    "    coord2 = np.array(df[df[\"nombre\"]==edge[1]][\"Geo Shape\"].iloc[0][\"coordinates\"])\n",
    "    return coord1, coord2\n",
    "def earthDist(coord1,coord2):\n",
    "    coord1 = np.pi/180*coord1\n",
    "    coord2 = np.pi/180*coord2\n",
    "    a = np.sin((coord1[1]-coord2[1])/2)**2 + np.cos(coord1[1])*np.cos(coord2[1])*np.sin((coord1[1]-coord2[1])/2)**2\n",
    "    c = 2*np.arctan2(np.sqrt(a),np.sqrt(1-a))\n",
    "    return c*6371000"
   ]
  },
  {
   "cell_type": "code",
   "execution_count": 5,
   "metadata": {},
   "outputs": [],
   "source": [
    "def getLines(df):\n",
    "    lineas, estaciones = separateLines(df)\n",
    "    tree = KDTree(np.array([x[\"coordinates\"][0:2] for x in estaciones[\"Geo Shape\"]]))\n",
    "    full_stat = []\n",
    "    full_dists = []\n",
    "    for index,row in lineas.iterrows():\n",
    "        enlaces = row[\"Geo Shape\"][\"coordinates\"][0]\n",
    "        print(row[\"nombre\"])\n",
    "        stat = []\n",
    "        for i in range(len(enlaces)):\n",
    "            edge = tree.query(enlaces[i],p=np.inf)\n",
    "            ind = edge[1]\n",
    "            stat.append(estaciones.loc[ind,\"nombre\"])\n",
    "        #print(stat)\n",
    "        stat_clean = unique(stat)\n",
    "        #print(stat_clean)\n",
    "        edges = list(zip(stat_clean[:-1],stat_clean[1:]))\n",
    "        dists = []\n",
    "        for edge in edges:\n",
    "            coord1, coord2 = getCoordinates(edge,df)\n",
    "            dists.append(round(earthDist(coord1,coord2)))\n",
    "        full_dists.extend(dists)\n",
    "        full_stat.extend(edges)\n",
    "    return full_stat, full_dists"
   ]
  },
  {
   "cell_type": "code",
   "execution_count": 6,
   "metadata": {},
   "outputs": [
    {
     "name": "stdout",
     "output_type": "stream",
     "text": [
      "MB07-A (Indios Verdes - Campo Marte)\n",
      "MB05-A (Remedios - San Lazaro)\n",
      "MB07-C (Glorieta Cuitlahuac - Campo Marte)\n",
      "MB02-C (Colonia del Valle - Del Moral)\n",
      "MB07-A (Campo Marte - Indios Verdes)\n",
      "MB01-B (Indios Verdes - Caminero)\n",
      "MB03-B (Tenayuca - Balderas)\n",
      "MB03-C (Tenayuca - Buenavista)\n",
      "MB03-D (La Raza - Tenayuca)\n",
      "MB07-B (Hospital Infantil - Campo Marte)\n",
      "MB06-B (Villa de Aragon - IPN)\n",
      "MB04-S (San Lazaro - Buenavista)\n",
      "MB04-S (Buenavista - San Lazaro)\n",
      "MB06-C (Deportivo 18 Marzo - El Rosario)\n",
      "MB07-C (Campo Marte - Glorieta Cuitlahuac)\n",
      "MB04-A (Aeropuerto)\n",
      "MB01-C (Galvez - Indios Verdes)\n",
      "MB01-A (Insurgentes - Indios Verdes)\n",
      "MB03-B (Balderas - Tenayuca)\n",
      "MB03-A (Etiopia - Tenayuca)\n",
      "MB02-D (Tepalcates - Colonia del Valle)\n",
      "MB06-B (IPN - Villa de Aragon)\n",
      "MB02-B (Etiopia - Tepalcates)\n",
      "MB07-D (Indios Verdes - El Angel)\n",
      "MB03-C (Buenavista - Tenayuca)\n",
      "MB01-A (Indios Verdes - Insurgentes)\n",
      "MB02-A (Tepalcates - Tacubaya)\n",
      "MB06-A (El Rosario - Villa de Aragon)\n",
      "MB01-B (Caminero - Indios Verdes)\n",
      "MB06-C (El Rosario - Deportivo 18 Marzo)\n",
      "MB01-D (Buenavista - Caminero)\n",
      "MB01-C (Indios Verdes - Galvez)\n",
      "MB07-B (Campo Marte - Hospital Infantil)\n",
      "MB07-D (El Angel - Indios Verdes)\n",
      "MB02-A (Tacubaya - Tepalcates)\n",
      "MB02-D (Colonia del Valle - Tepalcates)\n",
      "MB04-N (Buenavista - San Lazaro)\n",
      "MB02-C (Rio Frio - Colonia del Valle)\n",
      "MB06-A (Villa de Aragon - El Rosario)\n",
      "MB01-D (Caminero - Buenavista)\n",
      "MB03-A (Tenayuca - Etiopia)\n",
      "MB05-A (San Lazaro - Remedios)\n",
      "MB02-B (Tepalcates - Etiopia)\n",
      "MB03-D (Tenayuca - La Raza)\n",
      "MB04-N (San Lazaro - Buenavista)\n",
      "Línea 4\n",
      "Línea 9\n",
      "Línea 3\n",
      "Línea 12\n",
      "Línea B\n",
      "Línea 7\n",
      "Línea 6\n",
      "Línea 5\n",
      "Línea 8\n",
      "Línea 1\n",
      "Línea 2\n",
      "Línea A\n"
     ]
    }
   ],
   "source": [
    "edges_metrobus,dists_metrobus = getLines(metrobus)\n",
    "edges_metro,dists_metro = getLines(metro)"
   ]
  },
  {
   "cell_type": "code",
   "execution_count": 7,
   "metadata": {},
   "outputs": [],
   "source": [
    "def processString(string):\n",
    "    dic = {\"á\":\"a\",\n",
    "    \"é\":\"e\",\n",
    "    \"í\":\"i\",\n",
    "    \"ó\":\"o\",\n",
    "    \"ú\":\"u\",\n",
    "    \"ü\":\"u\",\n",
    "    \" \":\"_\"}\n",
    "    string = string.lower()\n",
    "    for val in dic.items():\n",
    "        string = string.replace(val[0],val[1])\n",
    "    return string"
   ]
  },
  {
   "cell_type": "code",
   "execution_count": 8,
   "metadata": {},
   "outputs": [],
   "source": [
    "edges_metro = [(processString(var[0].split(\"_\")[0]),processString(var[1].split(\"_\")[0])) for var in edges_metro]\n",
    "edges_metro_inv = [(edg[1],edg[0]) for edg in edges_metro]\n",
    "edges_metrobus = [(processString(var[0].split(\"_\")[0]),processString(var[1].split(\"_\")[0])) for var in edges_metrobus]"
   ]
  },
  {
   "cell_type": "code",
   "execution_count": 9,
   "metadata": {},
   "outputs": [],
   "source": [
    "edges = edges_metro +  edges_metro_inv + edges_metrobus\n",
    "dists = dists_metro + dists_metro + dists_metrobus"
   ]
  },
  {
   "cell_type": "code",
   "execution_count": null,
   "metadata": {},
   "outputs": [],
   "source": []
  },
  {
   "cell_type": "code",
   "execution_count": 10,
   "metadata": {},
   "outputs": [],
   "source": [
    "unzipped = list(zip(*edges))\n",
    "df = pd.DataFrame.from_dict({\"source\":unzipped[0],\"dest\":unzipped[1],\"dist\":dists})"
   ]
  },
  {
   "cell_type": "code",
   "execution_count": 11,
   "metadata": {},
   "outputs": [
    {
     "data": {
      "text/plain": [
       "(1469, 3)"
      ]
     },
     "execution_count": 11,
     "metadata": {},
     "output_type": "execute_result"
    }
   ],
   "source": [
    "df.shape"
   ]
  },
  {
   "cell_type": "code",
   "execution_count": 12,
   "metadata": {},
   "outputs": [],
   "source": [
    "G = nx.from_pandas_edgelist(df,source=\"source\",target=\"dest\",edge_attr=[\"dist\"],create_using=nx.DiGraph) "
   ]
  },
  {
   "cell_type": "code",
   "execution_count": 13,
   "metadata": {},
   "outputs": [],
   "source": [
    "nx.write_gexf(G,\"metro-metrobus.gefx\",version=\"1.2draft\")"
   ]
  },
  {
   "cell_type": "code",
   "execution_count": 14,
   "metadata": {},
   "outputs": [],
   "source": [
    "#nx.write_graphml_xml(G,\"metro-metrobus.graphml\")"
   ]
  },
  {
   "cell_type": "code",
   "execution_count": null,
   "metadata": {},
   "outputs": [],
   "source": []
  }
 ],
 "metadata": {
  "kernelspec": {
   "display_name": "Python 3",
   "language": "python",
   "name": "python3"
  },
  "language_info": {
   "codemirror_mode": {
    "name": "ipython",
    "version": 3
   },
   "file_extension": ".py",
   "mimetype": "text/x-python",
   "name": "python",
   "nbconvert_exporter": "python",
   "pygments_lexer": "ipython3",
   "version": "3.7.6"
  }
 },
 "nbformat": 4,
 "nbformat_minor": 4
}
