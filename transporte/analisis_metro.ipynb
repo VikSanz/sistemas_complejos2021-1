{
 "cells": [
  {
   "cell_type": "markdown",
   "metadata": {},
   "source": [
    "# Red del Metro CDMX"
   ]
  },
  {
   "cell_type": "code",
   "execution_count": 1,
   "metadata": {},
   "outputs": [],
   "source": [
    "import pandas as pd\n",
    "import numpy as np\n",
    "import networkx as nx"
   ]
  },
  {
   "cell_type": "code",
   "execution_count": 3,
   "metadata": {},
   "outputs": [],
   "source": [
    "df = pd.read_excel('metro.xlsx')"
   ]
  },
  {
   "cell_type": "code",
   "execution_count": 5,
   "metadata": {},
   "outputs": [],
   "source": [
    "METRO = nx.from_pandas_edgelist(df,source='Origen',target='Destino',edge_attr='Longitud de interestación')"
   ]
  },
  {
   "cell_type": "markdown",
   "metadata": {},
   "source": [
    "## Dijkstra con pesos"
   ]
  },
  {
   "cell_type": "code",
   "execution_count": 30,
   "metadata": {},
   "outputs": [
    {
     "data": {
      "text/plain": [
       "['Balbuena',\n",
       " 'Moctezuma',\n",
       " 'San Lázaro',\n",
       " 'Candelaria',\n",
       " 'Merced',\n",
       " 'Pino Suárez',\n",
       " 'Isabel la Católica',\n",
       " 'Salto del Agua',\n",
       " 'Balderas',\n",
       " 'Niños Héroes',\n",
       " 'Hospital General',\n",
       " 'Centro Médico',\n",
       " 'Etiopía/Plaza de la Transparencia',\n",
       " 'Eugenia',\n",
       " 'División del Norte',\n",
       " 'Zapata',\n",
       " 'Coyoacán',\n",
       " 'Viveros/Derechos Humanos',\n",
       " 'Miguel Ángel de Quevedo',\n",
       " 'Copilco',\n",
       " 'Universidad']"
      ]
     },
     "execution_count": 30,
     "metadata": {},
     "output_type": "execute_result"
    }
   ],
   "source": [
    "djk_path= nx.dijkstra_path(METRO, source='Balbuena', target='Universidad', weight='Longitud de interestación')\n",
    "djk_path"
   ]
  },
  {
   "cell_type": "code",
   "execution_count": 31,
   "metadata": {},
   "outputs": [
    {
     "data": {
      "text/plain": [
       "21"
      ]
     },
     "execution_count": 31,
     "metadata": {},
     "output_type": "execute_result"
    }
   ],
   "source": [
    "len(djk_path)"
   ]
  },
  {
   "cell_type": "code",
   "execution_count": 32,
   "metadata": {},
   "outputs": [
    {
     "data": {
      "text/plain": [
       "15716"
      ]
     },
     "execution_count": 32,
     "metadata": {},
     "output_type": "execute_result"
    }
   ],
   "source": [
    "nx.dijkstra_path_length(METRO, 'Balbuena', 'Universidad', 'Longitud de interestación')"
   ]
  },
  {
   "cell_type": "markdown",
   "metadata": {},
   "source": [
    "## Análisis de Centralidad "
   ]
  },
  {
   "cell_type": "code",
   "execution_count": 60,
   "metadata": {},
   "outputs": [],
   "source": [
    "centralidad_grado = nx.degree_centrality(METRO)"
   ]
  },
  {
   "cell_type": "code",
   "execution_count": 65,
   "metadata": {},
   "outputs": [
    {
     "data": {
      "text/plain": [
       "[('Observatorio', 0.006172839506172839),\n",
       " ('Cuatro Caminos', 0.006172839506172839),\n",
       " ('Tasqueña', 0.006172839506172839),\n",
       " ('Indios Verdes', 0.006172839506172839),\n",
       " ('Universidad', 0.006172839506172839),\n",
       " ('Politécnico', 0.006172839506172839),\n",
       " ('Barranca del Muerto', 0.006172839506172839),\n",
       " ('Constitución de 1917', 0.006172839506172839),\n",
       " ('La Paz', 0.006172839506172839),\n",
       " ('Ciudad Azteca', 0.006172839506172839),\n",
       " ('Buenavista', 0.006172839506172839),\n",
       " ('Tláhuac', 0.006172839506172839),\n",
       " ('Zaragoza', 0.012345679012345678),\n",
       " ('Gómez Farías', 0.012345679012345678),\n",
       " ('Boulevard Puerto Aéreo', 0.012345679012345678),\n",
       " ('Balbuena', 0.012345679012345678),\n",
       " ('Moctezuma', 0.012345679012345678),\n",
       " ('Merced', 0.012345679012345678),\n",
       " ('Isabel la Católica', 0.012345679012345678),\n",
       " ('Cuauhtémoc', 0.012345679012345678),\n",
       " ('Insurgentes', 0.012345679012345678),\n",
       " ('Sevilla', 0.012345679012345678),\n",
       " ('Chapultepec', 0.012345679012345678),\n",
       " ('Juanacatlán', 0.012345679012345678),\n",
       " ('Panteones', 0.012345679012345678),\n",
       " ('Cuitláhuac', 0.012345679012345678),\n",
       " ('Popotla', 0.012345679012345678),\n",
       " ('Colegio Militar', 0.012345679012345678),\n",
       " ('Normal', 0.012345679012345678),\n",
       " ('San Cosme', 0.012345679012345678),\n",
       " ('Revolución', 0.012345679012345678),\n",
       " ('Allende', 0.012345679012345678),\n",
       " ('Zócalo', 0.012345679012345678),\n",
       " ('San Antonio Abad', 0.012345679012345678),\n",
       " ('Viaducto', 0.012345679012345678),\n",
       " ('Xola', 0.012345679012345678),\n",
       " ('Villa de Cortés', 0.012345679012345678),\n",
       " ('Nativitas', 0.012345679012345678),\n",
       " ('Portales', 0.012345679012345678),\n",
       " ('General Anaya', 0.012345679012345678),\n",
       " ('Potrero', 0.012345679012345678),\n",
       " ('Tlatelolco', 0.012345679012345678),\n",
       " ('Juárez', 0.012345679012345678),\n",
       " ('Niños Héroes', 0.012345679012345678),\n",
       " ('Hospital General', 0.012345679012345678),\n",
       " ('Etiopía/Plaza de la Transparencia', 0.012345679012345678),\n",
       " ('Eugenia', 0.012345679012345678),\n",
       " ('División del Norte', 0.012345679012345678),\n",
       " ('Coyoacán', 0.012345679012345678),\n",
       " ('Viveros/Derechos Humanos', 0.012345679012345678),\n",
       " ('Miguel Ángel de Quevedo', 0.012345679012345678),\n",
       " ('Copilco', 0.012345679012345678),\n",
       " ('Fray Servando', 0.012345679012345678),\n",
       " ('Canal del Norte', 0.012345679012345678),\n",
       " ('Bondojito', 0.012345679012345678),\n",
       " ('Talismán', 0.012345679012345678),\n",
       " ('Martín Carrera', 0.012345679012345678),\n",
       " ('Autobuses del Norte', 0.012345679012345678),\n",
       " ('Misterios', 0.012345679012345678),\n",
       " ('Valle Gómez', 0.012345679012345678),\n",
       " ('Eduardo Molina', 0.012345679012345678),\n",
       " ('Aragón', 0.012345679012345678),\n",
       " ('Terminal Aérea', 0.012345679012345678),\n",
       " ('Hangares', 0.012345679012345678),\n",
       " ('El Rosario', 0.012345679012345678),\n",
       " ('Tezozómoc', 0.012345679012345678),\n",
       " ('Azcapotzalco', 0.012345679012345678),\n",
       " ('Ferrería', 0.012345679012345678),\n",
       " ('Norte 45', 0.012345679012345678),\n",
       " ('Vallejo', 0.012345679012345678),\n",
       " ('Lindavista', 0.012345679012345678),\n",
       " ('La Villa – Basílica', 0.012345679012345678),\n",
       " ('Aquíles Serdán', 0.012345679012345678),\n",
       " ('Camarones', 0.012345679012345678),\n",
       " ('Refinería', 0.012345679012345678),\n",
       " ('San Joaquín', 0.012345679012345678),\n",
       " ('Polanco', 0.012345679012345678),\n",
       " ('Auditorio', 0.012345679012345678),\n",
       " ('Constituyentes', 0.012345679012345678),\n",
       " ('San Pedro de los Pinos', 0.012345679012345678),\n",
       " ('San Antonio', 0.012345679012345678),\n",
       " ('San Juan de Letrán', 0.012345679012345678),\n",
       " ('Doctores', 0.012345679012345678),\n",
       " ('Obrera', 0.012345679012345678),\n",
       " ('La Viga', 0.012345679012345678),\n",
       " ('Coyuya', 0.012345679012345678),\n",
       " ('Iztacalco', 0.012345679012345678),\n",
       " ('Apatlaco', 0.012345679012345678),\n",
       " ('Aculco', 0.012345679012345678),\n",
       " ('Escuadrón 201', 0.012345679012345678),\n",
       " ('Iztapalapa', 0.012345679012345678),\n",
       " ('Cerro de la Estrella', 0.012345679012345678),\n",
       " ('UAM I', 0.012345679012345678),\n",
       " ('Puebla', 0.012345679012345678),\n",
       " ('Ciudad Deportiva', 0.012345679012345678),\n",
       " ('Velódromo', 0.012345679012345678),\n",
       " ('Mixiuhca', 0.012345679012345678),\n",
       " ('Lázaro Cardenas', 0.012345679012345678),\n",
       " ('Chilpancingo', 0.012345679012345678),\n",
       " ('Patriotismo', 0.012345679012345678),\n",
       " ('Agrícola Oriental', 0.012345679012345678),\n",
       " ('Canal de San Juan', 0.012345679012345678),\n",
       " ('Tepalcates', 0.012345679012345678),\n",
       " ('Guelatao', 0.012345679012345678),\n",
       " ('Peñón Viejo', 0.012345679012345678),\n",
       " ('Acatitla', 0.012345679012345678),\n",
       " ('Santa Marta', 0.012345679012345678),\n",
       " ('Los Reyes', 0.012345679012345678),\n",
       " ('Plaza Aragón', 0.012345679012345678),\n",
       " ('Olímpica', 0.012345679012345678),\n",
       " ('Ecatepec', 0.012345679012345678),\n",
       " ('Múzquiz', 0.012345679012345678),\n",
       " ('Río de los Remedios', 0.012345679012345678),\n",
       " ('Impulsora', 0.012345679012345678),\n",
       " ('Nezahualcóyotl', 0.012345679012345678),\n",
       " ('Villa de Aragón', 0.012345679012345678),\n",
       " ('Bosques de Aragón', 0.012345679012345678),\n",
       " ('Deportivo Oceanía', 0.012345679012345678),\n",
       " ('Romero Rubio', 0.012345679012345678),\n",
       " ('Ricardo Flores Magón', 0.012345679012345678),\n",
       " ('Tepito', 0.012345679012345678),\n",
       " ('Lagunilla', 0.012345679012345678),\n",
       " ('Tlaltenco', 0.012345679012345678),\n",
       " ('Zapotitlán', 0.012345679012345678),\n",
       " ('Nopalera', 0.012345679012345678),\n",
       " ('Olivos', 0.012345679012345678),\n",
       " ('Tezonco', 0.012345679012345678),\n",
       " ('Periférico Oriente', 0.012345679012345678),\n",
       " ('Calle 11', 0.012345679012345678),\n",
       " ('Lomas Estrella', 0.012345679012345678),\n",
       " ('San Andrés Tomatlán', 0.012345679012345678),\n",
       " ('Culhuacán', 0.012345679012345678),\n",
       " ('Mexicaltzingo', 0.012345679012345678),\n",
       " ('Eje Central', 0.012345679012345678),\n",
       " ('Parque de los Venados', 0.012345679012345678),\n",
       " ('Hospital 20 de Noviembre', 0.012345679012345678),\n",
       " ('Insurgentes Sur', 0.012345679012345678),\n",
       " ('Santa Anita', 0.018518518518518517),\n",
       " ('Mixcoac', 0.018518518518518517),\n",
       " ('Garibaldi', 0.018518518518518517),\n",
       " ('Pantitlán', 0.024691358024691357),\n",
       " ('San Lázaro', 0.024691358024691357),\n",
       " ('Candelaria', 0.024691358024691357),\n",
       " ('Pino Suárez', 0.024691358024691357),\n",
       " ('Salto del Agua', 0.024691358024691357),\n",
       " ('Balderas', 0.024691358024691357),\n",
       " ('Tacuba', 0.024691358024691357),\n",
       " ('Hidalgo', 0.024691358024691357),\n",
       " ('Bellas Artes', 0.024691358024691357),\n",
       " ('Ermita', 0.024691358024691357),\n",
       " ('Deportivo 18 de Marzo', 0.024691358024691357),\n",
       " ('La Raza', 0.024691358024691357),\n",
       " ('Guerrero', 0.024691358024691357),\n",
       " ('Centro Médico', 0.024691358024691357),\n",
       " ('Zapata', 0.024691358024691357),\n",
       " ('Jamaica', 0.024691358024691357),\n",
       " ('Morelos', 0.024691358024691357),\n",
       " ('Consulado', 0.024691358024691357),\n",
       " ('Instituto del Petróleo', 0.024691358024691357),\n",
       " ('Oceanía', 0.024691358024691357),\n",
       " ('Atlalilco', 0.024691358024691357),\n",
       " ('Tacubaya', 0.030864197530864196),\n",
       " ('Chabacano', 0.037037037037037035)]"
      ]
     },
     "execution_count": 65,
     "metadata": {},
     "output_type": "execute_result"
    }
   ],
   "source": [
    "sorted(centralidad_grado.items(), key=lambda x:x[1])"
   ]
  },
  {
   "cell_type": "code",
   "execution_count": 69,
   "metadata": {},
   "outputs": [],
   "source": [
    "centralidad_intermediacion = nx.betweenness_centrality(METRO)"
   ]
  },
  {
   "cell_type": "code",
   "execution_count": 70,
   "metadata": {},
   "outputs": [
    {
     "data": {
      "text/plain": [
       "[('Observatorio', 0.0),\n",
       " ('Cuatro Caminos', 0.0),\n",
       " ('Tasqueña', 0.0),\n",
       " ('Indios Verdes', 0.0),\n",
       " ('Universidad', 0.0),\n",
       " ('Politécnico', 0.0),\n",
       " ('Barranca del Muerto', 0.0),\n",
       " ('Constitución de 1917', 0.0),\n",
       " ('La Paz', 0.0),\n",
       " ('Ciudad Azteca', 0.0),\n",
       " ('Buenavista', 0.0),\n",
       " ('Tláhuac', 0.0),\n",
       " ('Lindavista', 0.006140888991130538),\n",
       " ('Gómez Farías', 0.010320016358663704),\n",
       " ('Panteones', 0.012345679012345678),\n",
       " ('General Anaya', 0.012345679012345678),\n",
       " ('Copilco', 0.012345679012345678),\n",
       " ('UAM I', 0.012345679012345678),\n",
       " ('Los Reyes', 0.012345679012345678),\n",
       " ('Plaza Aragón', 0.012345679012345678),\n",
       " ('Tlaltenco', 0.012345679012345678),\n",
       " ('Zaragoza', 0.012805766428954833),\n",
       " ('La Villa – Basílica', 0.013461880203311048),\n",
       " ('Boulevard Puerto Aéreo', 0.016007208036193536),\n",
       " ('Martín Carrera', 0.01642560997863502),\n",
       " ('Chapultepec', 0.01674526493367073),\n",
       " ('Sevilla', 0.017780461621041327),\n",
       " ('Isabel la Católica', 0.020072591570176112),\n",
       " ('La Viga', 0.02033330777292131),\n",
       " ('Allende', 0.02081920839684815),\n",
       " ('Juanacatlán', 0.02098190322828003),\n",
       " ('San Juan de Letrán', 0.021761535587162442),\n",
       " ('Talismán', 0.023006138056747685),\n",
       " ('El Rosario', 0.023690667893566456),\n",
       " ('Tezozómoc', 0.02390537535465073),\n",
       " ('Insurgentes', 0.023991641745264927),\n",
       " ('Miguel Ángel de Quevedo', 0.024537995552488305),\n",
       " ('Cerro de la Estrella', 0.024537995552488305),\n",
       " ('Santa Marta', 0.024537995552488305),\n",
       " ('Olímpica', 0.024537995552488305),\n",
       " ('Zapotitlán', 0.024537995552488305),\n",
       " ('Balbuena', 0.02528563760447819),\n",
       " ('Aquíles Serdán', 0.02581473813357872),\n",
       " ('Zócalo', 0.025931290803616554),\n",
       " ('Azcapotzalco', 0.027586074687523977),\n",
       " ('Potrero', 0.027879440103387713),\n",
       " ('Merced', 0.030309536589729832),\n",
       " ('Deportivo 18 de Marzo', 0.03041935624463798),\n",
       " ('Camarones', 0.030505073741788718),\n",
       " ('Bondojito', 0.03234846865511697),\n",
       " ('Cuitláhuac', 0.03261039967964283),\n",
       " ('Cuauhtémoc', 0.03309114842931269),\n",
       " ('Popotla', 0.03337082193764963),\n",
       " ('Ferrería', 0.03456406717276284),\n",
       " ('Moctezuma', 0.035177517061575035),\n",
       " ('Viveros/Derechos Humanos', 0.03657694962042788),\n",
       " ('Iztapalapa', 0.03657694962042788),\n",
       " ('Acatitla', 0.03657694962042788),\n",
       " ('Ecatepec', 0.03657694962042788),\n",
       " ('Nopalera', 0.03657694962042788),\n",
       " ('San Antonio Abad', 0.03672034072310126),\n",
       " ('Refinería', 0.037987884364695954),\n",
       " ('Colegio Militar', 0.039121914645264086),\n",
       " ('Norte 45', 0.042999003143930674),\n",
       " ('Lagunilla', 0.044633591493494856),\n",
       " ('Doctores', 0.04540653414014351),\n",
       " ('Portales', 0.046771233095134646),\n",
       " ('Normal', 0.04755685061643193),\n",
       " ('Tepito', 0.04794579488621355),\n",
       " ('Coyoacán', 0.048462541216164404),\n",
       " ('Peñón Viejo', 0.048462541216164404),\n",
       " ('Múzquiz', 0.048462541216164404),\n",
       " ('Olivos', 0.048462541216164404),\n",
       " ('Obrera', 0.0496802350322019),\n",
       " ('Hangares', 0.050878000153362475),\n",
       " ('Niños Héroes', 0.05166638671929676),\n",
       " ('Vallejo', 0.05212407024001224),\n",
       " ('Terminal Aérea', 0.052191805331901944),\n",
       " ('Nativitas', 0.052317842506478356),\n",
       " ('Hospital General', 0.054778366884417014),\n",
       " ('Garibaldi', 0.05492361415986906),\n",
       " ('Insurgentes Sur', 0.05583672008792784),\n",
       " ('San Cosme', 0.05668191771251354),\n",
       " ('Villa de Cortés', 0.058784626751040354),\n",
       " ('Bellas Artes', 0.05907679490035133),\n",
       " ('Aragón', 0.05997367277560512),\n",
       " ('Guelatao', 0.06019477033969787),\n",
       " ('Río de los Remedios', 0.06019477033969787),\n",
       " ('Tezonco', 0.06019477033969787),\n",
       " ('Hospital 20 de Noviembre', 0.06358152493418195),\n",
       " ('Eduardo Molina', 0.06430616261534133),\n",
       " ('Pino Suárez', 0.0643843746673284),\n",
       " ('Mixcoac', 0.0645272601794341),\n",
       " ('Xola', 0.06559647655805928),\n",
       " ('Revolución', 0.06647155552147502),\n",
       " ('San Joaquín', 0.06692014075266894),\n",
       " ('San Antonio', 0.06778621271374895),\n",
       " ('Juárez', 0.07107794202917277),\n",
       " ('Tepalcates', 0.07177363699102829),\n",
       " ('Impulsora', 0.07177363699102829),\n",
       " ('Periférico Oriente', 0.07177363699102829),\n",
       " ('Polanco', 0.07244885787558897),\n",
       " ('Salto del Agua', 0.07283328225932315),\n",
       " ('Viaducto', 0.07329016058024572),\n",
       " ('Eje Central', 0.0743851199452764),\n",
       " ('San Pedro de los Pinos', 0.07440635943051403),\n",
       " ('Mexicaltzingo', 0.07696240063389823),\n",
       " ('Parque de los Venados', 0.07722999380464299),\n",
       " ('Instituto del Petróleo', 0.07764239771083556),\n",
       " ('Autobuses del Norte', 0.07894342268335812),\n",
       " ('Auditorio', 0.07963090765023134),\n",
       " ('Canal de San Juan', 0.08319914117015566),\n",
       " ('Nezahualcóyotl', 0.08319914117015566),\n",
       " ('Calle 11', 0.08319914117015566),\n",
       " ('Tlatelolco', 0.0834565031539957),\n",
       " ('División del Norte', 0.08557546833369237),\n",
       " ('Tacuba', 0.0856124700730176),\n",
       " ('Misterios', 0.08700028341160151),\n",
       " ('Constituyentes', 0.08828012507561622),\n",
       " ('Canal del Norte', 0.08849861276247287),\n",
       " ('Valle Gómez', 0.08996401318692548),\n",
       " ('Eugenia', 0.09201669216622056),\n",
       " ('Puebla', 0.0922692533803645),\n",
       " ('Agrícola Oriental', 0.09447128287707997),\n",
       " ('Villa de Aragón', 0.09447128287707997),\n",
       " ('Lomas Estrella', 0.09447128287707997),\n",
       " ('Patriotismo', 0.09462613637331838),\n",
       " ('Ciudad Deportiva', 0.09708739104874371),\n",
       " ('Etiopía/Plaza de la Transparencia', 0.09876464094315483),\n",
       " ('Chilpancingo', 0.10260098492787706),\n",
       " ('Velódromo', 0.10379699920762721),\n",
       " ('Bosques de Aragón', 0.10559006211180123),\n",
       " ('San Andrés Tomatlán', 0.10559006211180123),\n",
       " ('Romero Rubio', 0.1074189095928226),\n",
       " ('Balderas', 0.11050146953643612),\n",
       " ('Mixiuhca', 0.11197633105845664),\n",
       " ('Guerrero', 0.11269314144860489),\n",
       " ('Ricardo Flores Magón', 0.11356618868696158),\n",
       " ('Ermita', 0.11499629374025504),\n",
       " ('Escuadrón 201', 0.11525700994300028),\n",
       " ('Deportivo Oceanía', 0.11655547887431944),\n",
       " ('Culhuacán', 0.11655547887431944),\n",
       " ('Aculco', 0.1210592234746824),\n",
       " ('Apatlaco', 0.12755156813127824),\n",
       " ('Iztacalco', 0.13440175855634795),\n",
       " ('Pantitlán', 0.13567083301382818),\n",
       " ('Hidalgo', 0.14084832151889884),\n",
       " ('Coyuya', 0.14212100299056823),\n",
       " ('Morelos', 0.1460423423673942),\n",
       " ('Consulado', 0.14842116471401043),\n",
       " ('La Raza', 0.14861158042087413),\n",
       " ('Zapata', 0.14892694955956978),\n",
       " ('Santa Anita', 0.1528756224264621),\n",
       " ('Tacubaya', 0.1553161396961719),\n",
       " ('Lázaro Cardenas', 0.15592319948197564),\n",
       " ('San Lázaro', 0.1643738977072309),\n",
       " ('Oceanía', 0.17681159420289855),\n",
       " ('Atlalilco', 0.18209748741149703),\n",
       " ('Fray Servando', 0.19704431051912072),\n",
       " ('Centro Médico', 0.21687440587256546),\n",
       " ('Candelaria', 0.2291558561572364),\n",
       " ('Chabacano', 0.2870386041337271),\n",
       " ('Jamaica', 0.3317885785967223)]"
      ]
     },
     "execution_count": 70,
     "metadata": {},
     "output_type": "execute_result"
    }
   ],
   "source": [
    "sorted(centralidad_intermediacion.items(), key=lambda x:x[1])"
   ]
  },
  {
   "cell_type": "code",
   "execution_count": 74,
   "metadata": {},
   "outputs": [],
   "source": [
    "intermediacion_10=['Jamaica','Chabacano','Candelaria','Centro Médico','Fray Servando','Atlalilco','Oceanía','San Lázaro','Tacubaya','Santa Anita']"
   ]
  },
  {
   "cell_type": "code",
   "execution_count": 78,
   "metadata": {},
   "outputs": [],
   "source": [
    "intermediacion_10=set(intermediacion_10)"
   ]
  },
  {
   "cell_type": "code",
   "execution_count": 57,
   "metadata": {},
   "outputs": [],
   "source": [
    "centralidad_cercania = nx.closeness_centrality(METRO)"
   ]
  },
  {
   "cell_type": "code",
   "execution_count": 68,
   "metadata": {},
   "outputs": [
    {
     "data": {
      "text/plain": [
       "[('Tláhuac', 0.045672399210600505),\n",
       " ('Tlaltenco', 0.047844063792085056),\n",
       " ('Ciudad Azteca', 0.04942037827943868),\n",
       " ('Zapotitlán', 0.05020142547257515),\n",
       " ('Plaza Aragón', 0.0519730510105871),\n",
       " ('Nopalera', 0.05276872964169381),\n",
       " ('La Paz', 0.05283757338551859),\n",
       " ('Olímpica', 0.05476673427991886),\n",
       " ('Olivos', 0.055574614065180106),\n",
       " ('Los Reyes', 0.05576592082616179),\n",
       " ('Ecatepec', 0.057836486968939664),\n",
       " ('Tezonco', 0.05865314989138305),\n",
       " ('Santa Marta', 0.05899490167516387),\n",
       " ('Múzquiz', 0.061224489795918366),\n",
       " ('Periférico Oriente', 0.062045193412485634),\n",
       " ('Acatitla', 0.06257242178447277),\n",
       " ('Constitución de 1917', 0.06433677521842732),\n",
       " ('Río de los Remedios', 0.06498194945848375),\n",
       " ('Calle 11', 0.06580016246953696),\n",
       " ('Universidad', 0.06585365853658537),\n",
       " ('Peñón Viejo', 0.06655710764174198),\n",
       " ('Cuatro Caminos', 0.06792452830188679),\n",
       " ('El Rosario', 0.06832560101223113),\n",
       " ('Tezozómoc', 0.06852791878172589),\n",
       " ('UAM I', 0.068731438268986),\n",
       " ('Impulsora', 0.06917164816396243),\n",
       " ('Aquíles Serdán', 0.06926036767849508),\n",
       " ('Azcapotzalco', 0.06988783433994823),\n",
       " ('Lomas Estrella', 0.06997840172786177),\n",
       " ('Copilco', 0.0704654197477164),\n",
       " ('Guelatao', 0.07102148180622533),\n",
       " ('Camarones', 0.07114624505928854),\n",
       " ('Ferrería', 0.07280898876404494),\n",
       " ('Panteones', 0.07284172661870504),\n",
       " ('Cerro de la Estrella', 0.07370336669699727),\n",
       " ('Nezahualcóyotl', 0.07387140902872777),\n",
       " ('Refinería', 0.0739051094890511),\n",
       " ('San Andrés Tomatlán', 0.07465437788018434),\n",
       " ('Miguel Ángel de Quevedo', 0.07570093457943926),\n",
       " ('Tepalcates', 0.07605633802816901),\n",
       " ('Norte 45', 0.07659574468085106),\n",
       " ('Tasqueña', 0.07699619771863118),\n",
       " ('Cuitláhuac', 0.07721639656816015),\n",
       " ('Popotla', 0.07754906653901389),\n",
       " ('Tacuba', 0.0784503631961259),\n",
       " ('Indios Verdes', 0.07890891378470531),\n",
       " ('Barranca del Muerto', 0.07890891378470531),\n",
       " ('Villa de Aragón', 0.07917888563049853),\n",
       " ('Iztapalapa', 0.07937285644292014),\n",
       " ('Politécnico', 0.07976366322008863),\n",
       " ('San Joaquín', 0.07984228684080828),\n",
       " ('Culhuacán', 0.07992106561420818),\n",
       " ('Lindavista', 0.08031730292513634),\n",
       " ('Colegio Militar', 0.0805168986083499),\n",
       " ('Vallejo', 0.08104052026013006),\n",
       " ('Viveros/Derechos Humanos', 0.08169440242057488),\n",
       " ('Canal de San Juan', 0.0817768803634528),\n",
       " ('Polanco', 0.08282208588957055),\n",
       " ('General Anaya', 0.08337622233659289),\n",
       " ('Normal', 0.08517350157728706),\n",
       " ('Bosques de Aragón', 0.08521830615465545),\n",
       " ('Mexicaltzingo', 0.08521830615465545),\n",
       " ('Deportivo 18 de Marzo', 0.08562367864693446),\n",
       " ('Mixcoac', 0.08562367864693446),\n",
       " ('La Villa – Basílica', 0.08585055643879173),\n",
       " ('Atlalilco', 0.08589607635206786),\n",
       " ('Insurgentes Sur', 0.08603292618162507),\n",
       " ('Instituto del Petróleo', 0.08663101604278074),\n",
       " ('Auditorio', 0.08663101604278074),\n",
       " ('Gómez Farías', 0.08686327077747989),\n",
       " ('Martín Carrera', 0.08770979967514889),\n",
       " ('Escuadrón 201', 0.08770979967514889),\n",
       " ('Agrícola Oriental', 0.08833151581243184),\n",
       " ('Coyoacán', 0.0886214442013129),\n",
       " ('Eje Central', 0.08920704845814978),\n",
       " ('San Antonio', 0.08950276243093923),\n",
       " ('Zaragoza', 0.08980044345898004),\n",
       " ('Observatorio', 0.09025069637883008),\n",
       " ('Chapultepec', 0.09065472859541131),\n",
       " ('San Cosme', 0.09070548712206047),\n",
       " ('Ermita', 0.09080717488789238),\n",
       " ('Hospital 20 de Noviembre', 0.09090909090909091),\n",
       " ('Parque de los Venados', 0.09121621621621621),\n",
       " ('Sevilla', 0.09126760563380282),\n",
       " ('Talismán', 0.09147374364765669),\n",
       " ('Aculco', 0.09168081494057725),\n",
       " ('Boulevard Puerto Aéreo', 0.09178470254957508),\n",
       " ('Potrero', 0.09178470254957508),\n",
       " ('Deportivo Oceanía', 0.09215017064846416),\n",
       " ('Constituyentes', 0.09230769230769231),\n",
       " ('Autobuses del Norte', 0.09241300627495722),\n",
       " ('Portales', 0.09273039496279337),\n",
       " ('Terminal Aérea', 0.09299655568312284),\n",
       " ('Juanacatlán', 0.0934795152914022),\n",
       " ('Hangares', 0.09364161849710982),\n",
       " ('San Pedro de los Pinos', 0.09396751740139211),\n",
       " ('Buenavista', 0.09568812758417011),\n",
       " ('Insurgentes', 0.09574468085106383),\n",
       " ('Aragón', 0.09580130100532229),\n",
       " ('Pantitlán', 0.09591474245115453),\n",
       " ('Apatlaco', 0.0962566844919786),\n",
       " ('Zapata', 0.09671641791044776),\n",
       " ('Nativitas', 0.09718056388722256),\n",
       " ('Revolución', 0.09776704888352444),\n",
       " ('Puebla', 0.09836065573770492),\n",
       " ('Bondojito', 0.09854014598540146),\n",
       " ('Balbuena', 0.0989010989010989),\n",
       " ('Tacubaya', 0.09914320685434516),\n",
       " ('Oceanía', 0.10018552875695733),\n",
       " ('La Raza', 0.10024752475247525),\n",
       " ('División del Norte', 0.10037174721189591),\n",
       " ('Misterios', 0.1005586592178771),\n",
       " ('Eduardo Molina', 0.10150375939849623),\n",
       " ('Tlatelolco', 0.10156739811912226),\n",
       " ('Iztacalco', 0.10156739811912226),\n",
       " ('Ciudad Deportiva', 0.10163111668757842),\n",
       " ('Villa de Cortés', 0.10233733417561591),\n",
       " ('Cuauhtémoc', 0.10279187817258884),\n",
       " ('Valle Gómez', 0.10311903246339911),\n",
       " ('Romero Rubio', 0.10351437699680512),\n",
       " ('Patriotismo', 0.1036468330134357),\n",
       " ('Guerrero', 0.10574412532637076),\n",
       " ('Eugenia', 0.10588235294117647),\n",
       " ('Hidalgo', 0.10615989515072084),\n",
       " ('Lagunilla', 0.10664911125740618),\n",
       " ('Garibaldi', 0.10707204230006609),\n",
       " ('Juárez', 0.10714285714285714),\n",
       " ('Allende', 0.10728476821192053),\n",
       " ('Moctezuma', 0.1073558648111332),\n",
       " ('Bellas Artes', 0.1074983410749834),\n",
       " ('Velódromo', 0.10821643286573146),\n",
       " ('Xola', 0.10836120401337793),\n",
       " ('Consulado', 0.10836120401337793),\n",
       " ('Coyuya', 0.10843373493975904),\n",
       " ('San Juan de Letrán', 0.10850636302746149),\n",
       " ('Ricardo Flores Magón', 0.1091644204851752),\n",
       " ('Niños Héroes', 0.10960757780784844),\n",
       " ('Chilpancingo', 0.11103495544893763),\n",
       " ('Tepito', 0.1111111111111111),\n",
       " ('Isabel la Católica', 0.11134020618556702),\n",
       " ('Canal del Norte', 0.11164713990351481),\n",
       " ('Doctores', 0.11195577055977886),\n",
       " ('Balderas', 0.11218836565096953),\n",
       " ('Etiopía/Plaza de la Transparencia', 0.11234396671289876),\n",
       " ('Zócalo', 0.1125),\n",
       " ('Hospital General', 0.11281337047353761),\n",
       " ('Salto del Agua', 0.11408450704225352),\n",
       " ('La Viga', 0.11563169164882227),\n",
       " ('Mixiuhca', 0.11604584527220631),\n",
       " ('Viaducto', 0.11621233859397417),\n",
       " ('Merced', 0.11671469740634005),\n",
       " ('Santa Anita', 0.11705202312138728),\n",
       " ('San Lázaro', 0.11756168359941944),\n",
       " ('Obrera', 0.11764705882352941),\n",
       " ('Morelos', 0.1187683284457478),\n",
       " ('Pino Suárez', 0.11982248520710059),\n",
       " ('Centro Médico', 0.12008895478131949),\n",
       " ('San Antonio Abad', 0.12035661218424963),\n",
       " ('Lázaro Cardenas', 0.12071535022354694),\n",
       " ('Candelaria', 0.12226415094339622),\n",
       " ('Fray Servando', 0.1232876712328767),\n",
       " ('Chabacano', 0.1261682242990654),\n",
       " ('Jamaica', 0.1276595744680851)]"
      ]
     },
     "execution_count": 68,
     "metadata": {},
     "output_type": "execute_result"
    }
   ],
   "source": [
    "sorted(centralidad_cercania.items(), key=lambda x:x[1])"
   ]
  },
  {
   "cell_type": "code",
   "execution_count": 84,
   "metadata": {},
   "outputs": [],
   "source": [
    "cercania_10=['Jamaica','Chabacano','Fray Servando','Candelaria','Lázaro Cardenas','San Antonio Abad','Centro Médico','Pino Suárez','Morelos','Obrera']\n",
    "cercania_10=set(cercania_10)"
   ]
  },
  {
   "cell_type": "code",
   "execution_count": 81,
   "metadata": {},
   "outputs": [],
   "source": [
    "menor_afluencia=['Deptvo. 18 de Marzo','Santa Anita ','Tlaltenco','Inst. del Petróleo','Bosque de Aragón ','Consulado','Chabacano','Valle Gómez','Consulado']\n",
    "menor_afluencia=set(menor_afluencia)"
   ]
  },
  {
   "cell_type": "code",
   "execution_count": 83,
   "metadata": {},
   "outputs": [
    {
     "data": {
      "text/plain": [
       "{'Chabacano'}"
      ]
     },
     "execution_count": 83,
     "metadata": {},
     "output_type": "execute_result"
    }
   ],
   "source": [
    "menor_afluencia.intersection(intermediacion_10)"
   ]
  },
  {
   "cell_type": "code",
   "execution_count": 85,
   "metadata": {},
   "outputs": [
    {
     "data": {
      "text/plain": [
       "{'Chabacano'}"
      ]
     },
     "execution_count": 85,
     "metadata": {},
     "output_type": "execute_result"
    }
   ],
   "source": [
    "menor_afluencia.intersection(cercania_10)"
   ]
  },
  {
   "cell_type": "markdown",
   "metadata": {},
   "source": [
    "## Exportamos el archivo a Gephi "
   ]
  },
  {
   "cell_type": "code",
   "execution_count": 6,
   "metadata": {},
   "outputs": [],
   "source": [
    "nx.write_gexf(METRO,'metro.gexf',version='1.2draft')"
   ]
  },
  {
   "cell_type": "code",
   "execution_count": null,
   "metadata": {},
   "outputs": [],
   "source": []
  },
  {
   "cell_type": "markdown",
   "metadata": {},
   "source": []
  }
 ],
 "metadata": {
  "kernelspec": {
   "display_name": "Python 3",
   "language": "python",
   "name": "python3"
  },
  "language_info": {
   "codemirror_mode": {
    "name": "ipython",
    "version": 3
   },
   "file_extension": ".py",
   "mimetype": "text/x-python",
   "name": "python",
   "nbconvert_exporter": "python",
   "pygments_lexer": "ipython3",
   "version": "3.7.6"
  }
 },
 "nbformat": 4,
 "nbformat_minor": 4
}
