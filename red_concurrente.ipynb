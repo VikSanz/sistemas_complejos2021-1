{
 "cells": [
  {
   "cell_type": "code",
   "execution_count": 22,
   "metadata": {},
   "outputs": [],
   "source": [
    "from collections import defaultdict, Counter\n",
    "import elotl.corpus\n",
    "import matplotlib.pyplot as plt\n",
    "import numpy as np\n",
    "import networkx as nx\n",
    "import statsmodels.api as sm\n",
    "import os\n",
    "from re import sub\n",
    "import graficas as ga\n",
    "import itertools"
   ]
  },
  {
   "cell_type": "code",
   "execution_count": 23,
   "metadata": {},
   "outputs": [],
   "source": [
    "corpusNahuatl=elotl.corpus.load('axolotl')  #español-náhuatl \n",
    "corpusOtomi=elotl.corpus.load('tsunkua')  #español-otomi "
   ]
  },
  {
   "cell_type": "code",
   "execution_count": 24,
   "metadata": {},
   "outputs": [],
   "source": [
    "def getWords(corpus):\n",
    "    ### Vamos a extraer la lista de palabras para cada lengua en cada corpus: \n",
    "    corpusEs=[]\n",
    "    corpusEx=[] \n",
    "    palabras=[] ### Lista temporal\n",
    "    ### Iteramos sobre cada línea de los corpus y vamos guardando las palabras que corresponden a cada lengua:\n",
    "    ### Corpus español-náhuatl\n",
    "    for row in corpus:   \n",
    "        ### row[0]: corresponde con las oraciones en español\n",
    "        row[0]=sub(r'[^\\w\\s]',' ',row[0])     #Sustituimos signos de puntuación por un espacio\n",
    "        palabras=row[0].lower().split()       #Dividimos a la oración en palabras (el delimitador es un espacio). Luego, guardamos cada una de estas palabras en la lista palabras\n",
    "        for p in palabras:                    #Iteramos sobre cada palabra de la oración (lista palabras)\n",
    "            corpusEs.append(p)             #vamos agregando cada palabra a una lista (corpus1_es)\n",
    "        ### row[1]: corresponde con las oraciones en nahuatl   \n",
    "        row[1]=sub(r'[^\\w\\s\\']',' ',row[1])  #Sustituimo signos de puntuación por un espacio. Notemos que aparece este signo \"'\", también lo quitamos.\n",
    "        palabras=row[1].lower().split()      #Dividimos a la oración en palabras (el delimitador es un espacio). Luego, guardamos cada una de estas palabras en la lista palabras\n",
    "        for p in palabras:                      #Iteramos sobre cada palabra de la oración (lista palabras)\n",
    "            corpusEx.append(p)            #vamos agregando cada palabra a una lista (corpus1_na)\n",
    "    return corpusEs,corpusEx\n",
    "\n",
    "def fullConcurrencyNetwork(palabras,name=\"\"):\n",
    "    concDG = nx.DiGraph()\n",
    "    concDG.add_nodes_from(set(palabras))\n",
    "    concDG.add_edges_from(zip(palabras[:-1],palabras[1:]))\n",
    "    if concDG.has_node(\" \"):\n",
    "        concDG.remove_node(\" \")\n",
    "    if concDG.has_node(\"\"):\n",
    "        concDG.remove_node(\"\")\n",
    "    if name:\n",
    "        nx.readwrite.graphml.write_graphml(concDG,name)\n",
    "    return concDG"
   ]
  },
  {
   "cell_type": "code",
   "execution_count": 25,
   "metadata": {},
   "outputs": [],
   "source": [
    "palabras = getWords(corpusNahuatl)\n",
    "lenguajes = [\"español\",\"Nahuatl\"]"
   ]
  },
  {
   "cell_type": "code",
   "execution_count": 5,
   "metadata": {},
   "outputs": [
    {
     "name": "stdout",
     "output_type": "stream",
     "text": [
      "Lenguaje: español\n",
      "Palabras totales: 389137\n",
      "Palabras distintas: 26691\n",
      "Lenguaje: Nahuatl\n",
      "Palabras totales: 286805\n",
      "Palabras distintas: 51286\n"
     ]
    }
   ],
   "source": [
    "for i in range(2):\n",
    "    print(\"Lenguaje: {0}\".format(lenguajes[i]))\n",
    "    # número de palabras totales\n",
    "    print(\"Palabras totales: {0}\".format(len(palabras[i])))\n",
    "    # número de palabras distintas\n",
    "    print(\"Palabras distintas: {0}\".format(len(set(palabras[i]))))"
   ]
  },
  {
   "cell_type": "code",
   "execution_count": 6,
   "metadata": {},
   "outputs": [
    {
     "data": {
      "image/png": "[encoded data removed]",
      "text/plain": [
       "<Figure size 432x288 with 1 Axes>"
      ]
     },
     "metadata": {
      "needs_background": "light"
     },
     "output_type": "display_data"
    }
   ],
   "source": [
    "# plotting frecuency\n",
    "counter = Counter(palabras[1])\n",
    "vals = counter.most_common()\n",
    "xs = range(1,len(counter.values())+1)\n",
    "ys = [val[1] for val in vals]\n",
    "fig = plt.figure()\n",
    "ga.plotLogLog(xs,ys,plt.gca(),fit=True)\n",
    "plt.title(\"Word Frecuency\")\n",
    "plt.show()"
   ]
  },
  {
   "cell_type": "markdown",
   "metadata": {},
   "source": [
    "## Building concurrency networks"
   ]
  },
  {
   "cell_type": "code",
   "execution_count": 7,
   "metadata": {},
   "outputs": [],
   "source": [
    "lang = [\"nahuatl\",\"otomi\"]\n",
    "for i,corpus in enumerate([corpusNahuatl,corpusOtomi]):\n",
    "    palabras = getWords(corpus)\n",
    "    lenguajes = [\"español\",lang[i]]\n",
    "    for j in range(2):\n",
    "        fullConcurrencyNetwork(palabras[j],os.path.join(\"networks\",\"full_concurrency_{0}-{1}.graphml\".format(lenguajes[j],lang[i])))"
   ]
  },
  {
   "cell_type": "markdown",
   "metadata": {},
   "source": [
    "## Building network of only spanish"
   ]
  },
  {
   "cell_type": "code",
   "execution_count": 8,
   "metadata": {},
   "outputs": [],
   "source": [
    "palabras_totales_esp = getWords(corpusNahuatl)[0] + getWords(corpusOtomi)[0]\n",
    "G = fullConcurrencyNetwork(palabras_totales_esp,os.path.join(\"networks\",\"full_concurrency_español.graphml\"))"
   ]
  },
  {
   "cell_type": "markdown",
   "metadata": {},
   "source": [
    "## Building network separating by sentences"
   ]
  },
  {
   "cell_type": "code",
   "execution_count": 10,
   "metadata": {},
   "outputs": [],
   "source": [
    "def processSentence(sentence):\n",
    "    sentence = sub(r'[^\\w\\s]',' ',sentence)     #Sustituimos signos de puntuación por un espacio\n",
    "    sentence = sentence.lower().split()\n",
    "    return sentence\n",
    "def getWordsBySentence(corpus):\n",
    "    corpusEs=[]\n",
    "    corpusEx=[] \n",
    "    for index,row in enumerate(corpus):  \n",
    "        if (len(row[0].split(\" \")) > 1) and (len(row[1].split(\" \")) > 1):\n",
    "            corpusEs.append(processSentence(row[0]))\n",
    "            corpusEx.append(processSentence(row[1]))\n",
    "    return corpusEs,corpusEx\n",
    "def sentenceConcurrencyNetwork(sentencesList,name=\"\"):\n",
    "    words = [item for lis in sentencesList for item in lis]\n",
    "    concDG = nx.DiGraph()\n",
    "    concDG.add_nodes_from(set(words))\n",
    "    for sentence in sentencesList:\n",
    "        concDG.add_edges_from(zip(sentence[:-1],sentence[1:]))\n",
    "    if concDG.has_node(\" \"):\n",
    "        concDG.remove_node(\" \")\n",
    "    if concDG.has_node(\"\"):\n",
    "        concDG.remove_node(\"\")\n",
    "    if name:\n",
    "        nx.readwrite.graphml.write_graphml(concDG,name)\n",
    "    return concDG"
   ]
  },
  {
   "cell_type": "code",
   "execution_count": 11,
   "metadata": {},
   "outputs": [],
   "source": [
    "lang = [\"nahuatl\",\"otomi\"]\n",
    "for i,corpus in enumerate([corpusNahuatl,corpusOtomi]):\n",
    "    oraciones = getWordsBySentence(corpus)\n",
    "    lenguajes = [\"español\",lang[i]]\n",
    "    for j in range(2):\n",
    "        sentenceConcurrencyNetwork(oraciones[j],os.path.join(\"networks\",\"sentence_concurrency_{0}-{1}.graphml\".format(lenguajes[j],lang[i])))"
   ]
  },
  {
   "cell_type": "code",
   "execution_count": 12,
   "metadata": {},
   "outputs": [],
   "source": [
    "G = sentenceConcurrencyNetwork(getWordsBySentence(corpusNahuatl)[0])"
   ]
  },
  {
   "cell_type": "markdown",
   "metadata": {},
   "source": [
    "## Buiding network cuentos network"
   ]
  },
  {
   "cell_type": "code",
   "execution_count": 13,
   "metadata": {},
   "outputs": [],
   "source": [
    "def getCuentos():\n",
    "    cuentosEsp = []\n",
    "    cuentosNah = []\n",
    "    folder = \"corpusCuentos\"\n",
    "    files = [os.path.join(folder,val) for val in os.listdir(folder) if os.path.isfile(os.path.join(folder,val))]\n",
    "    for file in files:\n",
    "        f = open(file,\"r\",errors=\"replace\")\n",
    "        l = f.read().split(\"\\n\")\n",
    "        if file.split(os.path.sep)[1][0:3]==\"esp\":\n",
    "            cuentosEsp.append([x for x in l if bool(x)])\n",
    "        elif file.split(os.path.sep)[1][0:3]==\"nah\":\n",
    "            cuentosNah.append([x for x in l if bool(x)])\n",
    "        f.close()\n",
    "    return cuentosEsp, cuentosNah\n",
    "\n",
    "def getSentences(cuentos):\n",
    "    f = []\n",
    "    for cuento in cuentos:\n",
    "        c = []\n",
    "        for par in cuento:\n",
    "            sentences = par.split(\".\")\n",
    "            sentences = [sub(r\"[^\\w\\s]\", \" \",sen) for sen in sentences if bool(sen)]\n",
    "            c.extend(sentences)\n",
    "        f.append(c)\n",
    "    return f\n",
    "\n",
    "def buildConcurrencyNetwork(sentencesList,name=\"\"):\n",
    "    words = [item for lis in sentencesList for item in lis]\n",
    "    concDG = nx.DiGraph()\n",
    "    concDG.add_nodes_from(set(words))\n",
    "    for sentence in sentencesList:\n",
    "        concDG.add_edges_from(zip(sentence[:-1],sentence[1:]))\n",
    "    if concDG.has_node(\" \"):\n",
    "        concDG.remove_node(\" \")\n",
    "    if concDG.has_node(\"\"):\n",
    "        concDG.remove_node(\"\")\n",
    "    if name:\n",
    "        nx.readwrite.graphml.write_graphml(concDG,os.path.join(\"networks\",\"{0}.graphml\".format(name)))\n",
    "    return concDG"
   ]
  },
  {
   "cell_type": "code",
   "execution_count": 14,
   "metadata": {},
   "outputs": [],
   "source": [
    "cuentosEsp, cuentosNah = getCuentos()\n",
    "cuentosEsp, cuentosEsp = getSentences(cuentosEsp), getSentences(cuentosNah)\n",
    "cuentosEsp = [item.split(\" \") for l in cuentosEsp for item in l]\n",
    "cuentosNah = [item.split(\" \") for l in cuentosNah for item in l]"
   ]
  },
  {
   "cell_type": "code",
   "execution_count": 15,
   "metadata": {},
   "outputs": [
    {
     "data": {
      "text/plain": [
       "<networkx.classes.digraph.DiGraph at 0x7fcbae24e128>"
      ]
     },
     "execution_count": 15,
     "metadata": {},
     "output_type": "execute_result"
    }
   ],
   "source": [
    "G = sentenceConcurrencyNetwork(cuentosEsp,os.path.join(\"networks\",\"sentence_concurrency_cuentos_español.graphml\"))\n",
    "sentenceConcurrencyNetwork(cuentosNah,os.path.join(\"networks\",\"sentence_concurrency_cuentos_nahuatl.graphml\"))"
   ]
  },
  {
   "cell_type": "markdown",
   "metadata": {},
   "source": [
    "## building bipartite network"
   ]
  },
  {
   "cell_type": "code",
   "execution_count": 27,
   "metadata": {},
   "outputs": [],
   "source": [
    "cuentosEsp, cuentosNah = getCuentos()\n",
    "cuentosEsp, cuentosNah = getSentences(cuentosEsp), getSentences(cuentosNah)\n",
    "G = nx.DiGraph()\n",
    "ncuentos = len(cuentosEsp)\n",
    "i = 1\n",
    "n1 = len(cuentosEsp[i]) \n",
    "n2 = len(cuentosNah[i])\n",
    "if n1 == n2:\n",
    "    for j in range(n1):\n",
    "        nodesEsp = cuentosEsp[i][j].split(\" \")\n",
    "        nodesNah = cuentosNah[i][j].split(\" \")\n",
    "        G.add_nodes_from([(n,{\"lang\":\"esp\"}) for n in nodesEsp])\n",
    "        G.add_nodes_from([(n,{\"lang\":\"nah\"}) for n in nodesNah])\n",
    "        G.add_edges_from(itertools.product(nodesEsp,nodesNah))\n",
    "        G.add_edges_from(itertools.product(nodesNah,nodesEsp,))\n",
    "        G.add_edges_from(zip(nodesEsp[:-1],nodesEsp[1:]))\n",
    "        G.add_edges_from(zip(nodesNah[:-1],nodesNah[1:]))\n",
    "if G.has_node(\" \"):\n",
    "    G.remove_node(\" \")\n",
    "if G.has_node(\"\"):\n",
    "    G.remove_node(\"\")\n",
    "nx.write_graphml(G,os.path.join(\"networks\",\"cuento1_concurrency_bipart.graphml\"))"
   ]
  },
  {
   "cell_type": "code",
   "execution_count": 28,
   "metadata": {},
   "outputs": [],
   "source": [
    "cuentosEsp, cuentosNah = getCuentos()\n",
    "cuentosEsp, cuentosNah = getSentences(cuentosEsp), getSentences(cuentosNah)\n",
    "G = nx.DiGraph()\n",
    "ncuentos = len(cuentosEsp)\n",
    "for i in range(ncuentos):\n",
    "    n1 = len(cuentosEsp[i]) \n",
    "    n2 = len(cuentosNah[i])\n",
    "    if n1 == n2:\n",
    "        for j in range(n1):\n",
    "            nodesEsp = cuentosEsp[i][j].split(\" \")\n",
    "            nodesNah = cuentosNah[i][j].split(\" \")\n",
    "            G.add_nodes_from([(n,{\"lang\":\"esp\"}) for n in nodesEsp])\n",
    "            G.add_nodes_from([(n,{\"lang\":\"nah\"}) for n in nodesNah])\n",
    "            G.add_edges_from(itertools.product(nodesEsp,nodesNah))\n",
    "            G.add_edges_from(itertools.product(nodesNah,nodesEsp))\n",
    "            G.add_edges_from(zip(nodesEsp[:-1],nodesEsp[1:]))\n",
    "            G.add_edges_from(zip(nodesNah[:-1],nodesNah[1:]))\n",
    "if G.has_node(\" \"):\n",
    "    G.remove_node(\" \")\n",
    "if G.has_node(\"\"):\n",
    "    G.remove_node(\"\")\n",
    "nx.write_graphml(G,os.path.join(\"networks\",\"cuentos_concurrency_bipart.graphml\"))"
   ]
  },
  {
   "cell_type": "code",
   "execution_count": 26,
   "metadata": {},
   "outputs": [],
   "source": [
    "palEsp,palNah = getWordsBySentence(corpusNahuatl)\n",
    "G = nx.DiGraph()\n",
    "n = len(palEsp)\n",
    "for i in range(n):\n",
    "    G.add_nodes_from([(n,{\"lang\":\"esp\"}) for n in palEsp[i]])\n",
    "    G.add_nodes_from([(n,{\"lang\":\"nah\"}) for n in palNah[i]])\n",
    "    G.add_edges_from(itertools.product(palEsp[i],palNah[i]))\n",
    "    G.add_edges_from(itertools.product(palNah[i],palEsp[i]))\n",
    "    G.add_edges_from(zip(palEsp[i][:-1],palEsp[i][1:]))\n",
    "    G.add_edges_from(zip(palNah[i][:-1],palNah[i][1:]))\n",
    "if G.has_node(\" \"):\n",
    "    G.remove_node(\" \")\n",
    "if G.has_node(\"\"):\n",
    "    G.remove_node(\"\")\n",
    "nx.write_graphml(G,os.path.join(\"networks\",\"elotl_nah_concurrency_bipart.graphml\"))"
   ]
  },
  {
   "cell_type": "code",
   "execution_count": null,
   "metadata": {},
   "outputs": [],
   "source": []
  }
 ],
 "metadata": {
  "kernelspec": {
   "display_name": "Python 3",
   "language": "python",
   "name": "python3"
  },
  "language_info": {
   "codemirror_mode": {
    "name": "ipython",
    "version": 3
   },
   "file_extension": ".py",
   "mimetype": "text/x-python",
   "name": "python",
   "nbconvert_exporter": "python",
   "pygments_lexer": "ipython3",
   "version": "3.6.9"
  }
 },
 "nbformat": 4,
 "nbformat_minor": 4
}
